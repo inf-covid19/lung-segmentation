{
 "cells": [
  {
   "cell_type": "code",
   "execution_count": 1,
   "metadata": {},
   "outputs": [
    {
     "name": "stderr",
     "output_type": "stream",
     "text": [
      "Using TensorFlow backend.\n"
     ]
    }
   ],
   "source": [
    "import numpy as np # linear algebra\n",
    "import pandas as pd # data processing, CSV file I/O (e.g. pd.read_csv)\n",
    "import matplotlib.pyplot as plt\n",
    "import random\n",
    "\n",
    "from keras import layers\n",
    "from keras.models import Sequential\n",
    "from keras.layers import Convolution2D\n",
    "from keras.layers import MaxPooling2D\n",
    "from keras.layers import Flatten\n",
    "from keras.layers import Dense\n",
    "from keras.layers import Dropout\n",
    "from keras import models\n",
    "from keras import optimizers\n",
    "from keras.preprocessing.image import load_img, img_to_array, ImageDataGenerator\n",
    "from keras import applications\n",
    "\n",
    "from sklearn.preprocessing import LabelEncoder\n",
    "from sklearn.model_selection import train_test_split\n",
    "from sklearn.linear_model import LogisticRegression\n",
    "from sklearn import metrics\n",
    "\n",
    "import glob\n",
    "import os\n",
    "from datetime import datetime"
   ]
  },
  {
   "cell_type": "code",
   "execution_count": 2,
   "metadata": {},
   "outputs": [
    {
     "data": {
      "text/plain": [
       "['p17',\n",
       " 'p5',\n",
       " 'p7',\n",
       " 'multigif.py',\n",
       " 'p13',\n",
       " 'p11',\n",
       " 'p16',\n",
       " 'p6',\n",
       " 'p8',\n",
       " 'p15',\n",
       " 'p14',\n",
       " 'p1',\n",
       " 'p4',\n",
       " 'p18',\n",
       " 'p3',\n",
       " 'p19',\n",
       " 'p12',\n",
       " 'p9',\n",
       " 'p10',\n",
       " 'p2',\n",
       " 'gifs.zip',\n",
       " 'p20']"
      ]
     },
     "execution_count": 2,
     "metadata": {},
     "output_type": "execute_result"
    }
   ],
   "source": [
    "img_src_folder = \"lung-segmentation/uniq\"\n",
    "os.listdir(img_src_folder)"
   ]
  },
  {
   "cell_type": "code",
   "execution_count": 3,
   "metadata": {},
   "outputs": [],
   "source": [
    "#1-5: normal patients, 11-20: covid patients.\n",
    "other_patients = []\n",
    "covid_patients = []\n",
    "for root, dirs, files in os.walk(img_src_folder):\n",
    "    for d in dirs:\n",
    "        if d[0] == 'p':\n",
    "            num = int(d[1:])\n",
    "            if num <= 10: other_patients.append(d)\n",
    "            elif num >= 11: covid_patients.append(d)\n"
   ]
  },
  {
   "cell_type": "code",
   "execution_count": 4,
   "metadata": {},
   "outputs": [
    {
     "data": {
      "text/plain": [
       "['p1', 'p10', 'p2', 'p3', 'p4', 'p5', 'p6', 'p7', 'p8', 'p9']"
      ]
     },
     "execution_count": 4,
     "metadata": {},
     "output_type": "execute_result"
    }
   ],
   "source": [
    "sorted(other_patients)"
   ]
  },
  {
   "cell_type": "code",
   "execution_count": 5,
   "metadata": {},
   "outputs": [
    {
     "data": {
      "text/plain": [
       "['p11', 'p12', 'p13', 'p14', 'p15', 'p16', 'p17', 'p18', 'p19', 'p20']"
      ]
     },
     "execution_count": 5,
     "metadata": {},
     "output_type": "execute_result"
    }
   ],
   "source": [
    "sorted(covid_patients)"
   ]
  },
  {
   "cell_type": "code",
   "execution_count": 6,
   "metadata": {},
   "outputs": [],
   "source": [
    "now = datetime.now()\n",
    "#defining the minimum number of patients of each class that will be in the test set.\n",
    "test_patients_per_label = 0\n",
    "#building the test set with the declared num of patients of each class\n",
    "TEST_IMG_FOLDERS = sorted(other_patients)[0:test_patients_per_label]\n",
    "TEST_IMG_FOLDERS = sorted(covid_patients)[0:test_patients_per_label]\n",
    "\n",
    "#splitting the test data and the rest (training and validation)\n",
    "if test_patients_per_label > 0:\n",
    "    for n in range(test_patients_per_label):\n",
    "        other_patients.pop(0)\n",
    "        covid_patients.pop(0)\n",
    "        \n",
    "#defining the number of patients in training set\n",
    "num_train_patients = int(0.8*min(len(other_patients), len(covid_patients)))\n",
    "        \n",
    "train_other_folders = sorted(other_patients)[0:num_train_patients]\n",
    "train_label_1 = ['other' for i in range(len(train_other_folders))]\n",
    "\n",
    "validation_other_folders = list(set(other_patients) - set(train_other_folders))\n",
    "validation_label_1 = ['other' for i in range(len(validation_other_folders))]\n",
    "\n",
    "train_covid_folders = sorted(covid_patients)[0:num_train_patients]\n",
    "train_label_2 = ['covid' for i in range(len(train_covid_folders))]\n",
    "\n",
    "validation_covid_folders = list(set(covid_patients) - set(train_covid_folders))\n",
    "validation_label_2 = ['covid' for i in range(len(validation_covid_folders))]\n",
    "\n",
    "#balancing validation set members for each label (other or covid)\n",
    "label_1_size = len(validation_other_folders)\n",
    "label_2_size = len(validation_covid_folders)\n",
    "dif = label_1_size - label_2_size\n",
    "if dif != 0:\n",
    "    greater_label = validation_other_folders #supposing one label as having more elements\n",
    "    if label_2_size > label_1_size:\n",
    "        greater_label = validation_covid_folders\n",
    "        dif = abs(dif)\n",
    "    for n in range(dif): #deletes an random majoritary's label patient until labels are balanced\n",
    "        index = random.randint(0, len(greater_label) - 1)\n",
    "        TEST_IMG_FOLDERS.append(greater_label[index])\n",
    "        greater_label.pop(index)\n",
    "\n",
    "TRAIN_IMG_SRC_FOLDER = img_src_folder\n",
    "VALIDATION_IMG_SRC_FOLDER = img_src_folder\n",
    "TEST_IMG_SRC_FOLDER = img_src_folder\n",
    "\n",
    "TRAIN_IMG_FOLDERS = dict(zip(train_other_folders, train_label_1))\n",
    "TRAIN_IMG_FOLDERS.update(dict(zip(train_covid_folders, train_label_2)))\n",
    "\n",
    "VALIDATION_IMG_FOLDERS = dict(zip(validation_other_folders, validation_label_1))\n",
    "VALIDATION_IMG_FOLDERS.update(dict(zip(validation_covid_folders, validation_label_2)))"
   ]
  },
  {
   "cell_type": "code",
   "execution_count": 7,
   "metadata": {},
   "outputs": [
    {
     "data": {
      "text/plain": [
       "{'p1': 'other',\n",
       " 'p10': 'other',\n",
       " 'p2': 'other',\n",
       " 'p3': 'other',\n",
       " 'p4': 'other',\n",
       " 'p5': 'other',\n",
       " 'p6': 'other',\n",
       " 'p7': 'other',\n",
       " 'p11': 'covid',\n",
       " 'p12': 'covid',\n",
       " 'p13': 'covid',\n",
       " 'p14': 'covid',\n",
       " 'p15': 'covid',\n",
       " 'p16': 'covid',\n",
       " 'p17': 'covid',\n",
       " 'p18': 'covid'}"
      ]
     },
     "execution_count": 7,
     "metadata": {},
     "output_type": "execute_result"
    }
   ],
   "source": [
    "TRAIN_IMG_FOLDERS"
   ]
  },
  {
   "cell_type": "code",
   "execution_count": 8,
   "metadata": {},
   "outputs": [
    {
     "data": {
      "text/plain": [
       "{'p9': 'other', 'p8': 'other', 'p19': 'covid', 'p20': 'covid'}"
      ]
     },
     "execution_count": 8,
     "metadata": {},
     "output_type": "execute_result"
    }
   ],
   "source": [
    "VALIDATION_IMG_FOLDERS"
   ]
  },
  {
   "cell_type": "code",
   "execution_count": 9,
   "metadata": {},
   "outputs": [
    {
     "data": {
      "text/plain": [
       "[]"
      ]
     },
     "execution_count": 9,
     "metadata": {},
     "output_type": "execute_result"
    }
   ],
   "source": [
    "TEST_IMG_FOLDERS"
   ]
  },
  {
   "cell_type": "code",
   "execution_count": 10,
   "metadata": {},
   "outputs": [
    {
     "name": "stdout",
     "output_type": "stream",
     "text": [
      "2\n"
     ]
    }
   ],
   "source": [
    "CLASSES = len(set([label for label in TRAIN_IMG_FOLDERS.values()]))\n",
    "EXAM_SLICE = 200\n",
    "EPOCHS = 15\n",
    "width = 150\n",
    "height = 150\n",
    "print(CLASSES)"
   ]
  },
  {
   "cell_type": "code",
   "execution_count": 11,
   "metadata": {},
   "outputs": [
    {
     "name": "stdout",
     "output_type": "stream",
     "text": [
      "Train fold with 3200 images\n",
      "label\n",
      "covid    1600\n",
      "other    1600\n",
      "Name: label, dtype: int64\n",
      "\n",
      "Validation fold with 800 images\n",
      "label\n",
      "covid    400\n",
      "other    400\n",
      "Name: label, dtype: int64\n",
      "------------------------------\n"
     ]
    }
   ],
   "source": [
    "dfs = []\n",
    "train_images = {\"id\": [], \"label\": []}\n",
    "validation_images = {\"id\": [], \"label\": []}\n",
    "\n",
    "df_config = [\n",
    "    (TRAIN_IMG_SRC_FOLDER, TRAIN_IMG_FOLDERS, train_images),\n",
    "    (VALIDATION_IMG_SRC_FOLDER, VALIDATION_IMG_FOLDERS, validation_images)\n",
    "]\n",
    "\n",
    "def get_file_path(folder, search_filter=''):\n",
    "    paths = []\n",
    "    for root, dirs, files in os.walk(folder):\n",
    "        for file in files:\n",
    "            path = os.path.join(root, file)\n",
    "            if search_filter in path:\n",
    "                paths.append(path)\n",
    "    return paths\n",
    "\n",
    "for (base, folder, dic) in df_config:\n",
    "    for img_folder, img_label in folder.items():\n",
    "        search_folder = \"{}/{}\".format(base, img_folder)\n",
    "        imgs_filename = sorted(get_file_path(search_folder, search_filter = 'masks'))\n",
    "        imgs_filename = imgs_filename[(len(imgs_filename)-EXAM_SLICE)//2:(len(imgs_filename)+EXAM_SLICE)//2]\n",
    "        dic[\"id\"].extend(imgs_filename)\n",
    "        dic[\"label\"].extend([img_label] * len(imgs_filename))\n",
    "        \n",
    "    dfs.append(pd.DataFrame(data=dic))\n",
    "\n",
    "train_df, validation_df = dfs[0], dfs[1]\n",
    "\n",
    "train_df.to_csv('train_df.csv', index=False)\n",
    "validation_df.to_csv('validation_df.csv', index=False)\n",
    "\n",
    "print(\"Train fold with {} images\".format(len(train_df)))\n",
    "print(train_df.groupby(\"label\").label.count())\n",
    "print()\n",
    "print(\"Validation fold with {} images\".format(len(validation_df)))\n",
    "print(validation_df.groupby(\"label\").label.count())\n",
    "print(\"-\" * 30)"
   ]
  },
  {
   "cell_type": "markdown",
   "metadata": {},
   "source": [
    "Random Visualization of Training Data Samples"
   ]
  },
  {
   "cell_type": "code",
   "execution_count": 12,
   "metadata": {},
   "outputs": [],
   "source": [
    "def get_side(img, side_type, side_size=5):\n",
    "    height, width, channel=img.shape\n",
    "    if side_type==\"horizontal\":\n",
    "        return np.ones((height,side_size,  channel), dtype=np.float32)*255\n",
    "        \n",
    "    return np.ones((side_size, width,  channel), dtype=np.float32)*255\n",
    "\n",
    "def show_gallery(show=\"all\"):\n",
    "    n=100\n",
    "    counter=0\n",
    "    images=list()\n",
    "    vertical_images=[]\n",
    "    rng_state = np.random.get_state()\n",
    "    np.random.shuffle(train_images[\"id\"])\n",
    "    np.random.set_state(rng_state)\n",
    "    np.random.shuffle(train_images[\"label\"])\n",
    "    for path, target in zip(train_images[\"id\"], train_images[\"label\"]):\n",
    "        if target!=show and show!=\"all\":\n",
    "            continue\n",
    "        counter=counter+1\n",
    "        if counter%100==0:\n",
    "            break\n",
    "        #Image loading from disk as JpegImageFile file format\n",
    "        img=load_img(path, target_size=(width,height))\n",
    "        #Converting JpegImageFile to numpy array\n",
    "        img=img_to_array(img)\n",
    "        \n",
    "        hside=get_side(img, side_type=\"horizontal\")\n",
    "        images.append(img)\n",
    "        images.append(hside)\n",
    "\n",
    "        if counter%10==0:\n",
    "            himage=np.hstack((images))\n",
    "            vside=get_side(himage, side_type=\"vertical\")\n",
    "            vertical_images.append(himage)\n",
    "            vertical_images.append(vside)\n",
    "            \n",
    "            images=list()\n",
    "\n",
    "    gallery=np.vstack((vertical_images)) \n",
    "    plt.figure(figsize=(12,12))\n",
    "    plt.xticks([])\n",
    "    plt.yticks([])\n",
    "    title = {\"all\":\"All Classifications's\",\n",
    "             \"other\":\"Other\",\n",
    "             \"covid\":\"Covid-19\"}\n",
    "    plt.title(\"100 Samples of {} Patients of the training set\".format(title[show]))\n",
    "    plt.imshow(gallery.astype(np.uint8))"
   ]
  },
  {
   "cell_type": "code",
   "execution_count": 13,
   "metadata": {},
   "outputs": [
    {
     "data": {
      "image/png": "[encoded data removed]",
      "text/plain": [
       "<Figure size 864x864 with 1 Axes>"
      ]
     },
     "metadata": {},
     "output_type": "display_data"
    }
   ],
   "source": [
    "show_gallery(\"all\")"
   ]
  },
  {
   "cell_type": "markdown",
   "metadata": {},
   "source": [
    "Data Generator"
   ]
  },
  {
   "cell_type": "code",
   "execution_count": 14,
   "metadata": {},
   "outputs": [],
   "source": [
    "def get_data_generator(dataframe, x_col, y_col, subset=None, shuffle=True, batch_size=16, class_mode=\"binary\"):\n",
    "    datagen = ImageDataGenerator(\n",
    "    rotation_range=15,\n",
    "    rescale=1./255,\n",
    "    shear_range=0.1,\n",
    "    zoom_range=0.2,\n",
    "    horizontal_flip=False,\n",
    "    width_shift_range=0.1,\n",
    "    height_shift_range=0.1)\n",
    "    \n",
    "    data_generator = datagen.flow_from_dataframe(\n",
    "        dataframe=dataframe,\n",
    "        x_col=x_col,\n",
    "        y_col=y_col,\n",
    "        subset=subset,\n",
    "        target_size=(width, height),\n",
    "        class_mode=class_mode,\n",
    "        # color_mode=\"rgb\",\n",
    "        batch_size=batch_size,\n",
    "        shuffle=shuffle,\n",
    "    )\n",
    "    return data_generator"
   ]
  },
  {
   "cell_type": "markdown",
   "metadata": {},
   "source": [
    "See sample generated images"
   ]
  },
  {
   "cell_type": "code",
   "execution_count": 15,
   "metadata": {},
   "outputs": [
    {
     "name": "stdout",
     "output_type": "stream",
     "text": [
      "Found 1 validated image filenames belonging to 1 classes.\n"
     ]
    },
    {
     "data": {
      "image/png": "[encoded data removed]",
      "text/plain": [
       "<Figure size 864x864 with 9 Axes>"
      ]
     },
     "metadata": {
      "needs_background": "light"
     },
     "output_type": "display_data"
    }
   ],
   "source": [
    "example_df = train_df.sample(n=1).reset_index(drop=True)\n",
    "example_generator = get_data_generator(example_df, \"id\", \"label\", class_mode = \"categorical\")\n",
    "\n",
    "plt.figure(figsize = (12,12))\n",
    "for i in range(0, 9):\n",
    "        plt.subplot(3, 3, i+1)\n",
    "        for X_batch, Y_batch in example_generator:\n",
    "            image = X_batch[0]\n",
    "            plt.imshow(image)\n",
    "            break\n",
    "plt.tight_layout()\n",
    "plt.show()"
   ]
  },
  {
   "cell_type": "markdown",
   "metadata": {},
   "source": [
    "Setting A Model With Transfer Learning"
   ]
  },
  {
   "cell_type": "code",
   "execution_count": 16,
   "metadata": {},
   "outputs": [],
   "source": [
    "def get_model():\n",
    "    from keras.applications import ResNet50\n",
    "    from keras.layers import GlobalAveragePooling2D\n",
    "    conv_base = ResNet50(weights='imagenet', include_top=False, input_shape=(150,150,3))\n",
    "    \n",
    "    conv_base.trainable = True\n",
    "    set_trainable = False\n",
    "    for layer in conv_base.layers:\n",
    "        if layer.name == 'conv3_block1_1_conv':\n",
    "            set_trainable = True\n",
    "        if set_trainable:\n",
    "            layer.trainable = True\n",
    "        else:\n",
    "            layer.trainable = False\n",
    "    \n",
    "    model = Sequential()\n",
    "    model.add(conv_base)\n",
    "    model.add(GlobalAveragePooling2D())\n",
    "    model.add(Dense(1, activation = 'sigmoid'))\n",
    "    \n",
    "    model.compile(optimizer=optimizers.RMSprop(lr=2e-5),\n",
    "                  loss='binary_crossentropy', metrics=['accuracy'])\n",
    "    model.summary()\n",
    "    return model"
   ]
  },
  {
   "cell_type": "code",
   "execution_count": 17,
   "metadata": {},
   "outputs": [],
   "source": [
    "def train_model(model, train_df, validation_df, epochs, callbacks=[]):\n",
    "    batch_size = 16\n",
    "    train_generator = get_data_generator(train_df, \"id\", \"label\", batch_size=batch_size)\n",
    "    validation_generator = get_data_generator(validation_df, \"id\", \"label\",batch_size=batch_size)\n",
    "\n",
    "    #model.compile(\n",
    "    #    optimizer=\"Adam\", loss=\"binary_crossentropy\", metrics=[\"accuracy\"]\n",
    "    #)\n",
    "\n",
    "    step_size_train = train_generator.n // train_generator.batch_size\n",
    "    step_size_validation = validation_generator.n // validation_generator.batch_size\n",
    "\n",
    "    if step_size_train == 0:\n",
    "        step_size_train = train_generator.n // 2\n",
    "        step_size_validation = validation_generator.n // 2\n",
    "\n",
    "    history = model.fit(\n",
    "        train_generator,\n",
    "        steps_per_epoch=step_size_train,\n",
    "        epochs=epochs,\n",
    "        validation_data=validation_generator,\n",
    "        validation_steps=step_size_validation,\n",
    "        callbacks=callbacks\n",
    "    )\n",
    "    \n",
    "    #needed when a model is loaded\n",
    "    #np.save('transfer_learning_legend', train_generator.class_indices)\n",
    "    \n",
    "    return history.history"
   ]
  },
  {
   "cell_type": "code",
   "execution_count": 18,
   "metadata": {},
   "outputs": [],
   "source": [
    "def plot_results(history):\n",
    "    acc = history['accuracy']\n",
    "    val_acc = history['val_accuracy']\n",
    "    loss = history['loss']\n",
    "    val_loss = history['val_loss']\n",
    "\n",
    "    epochs = range(1, len(acc) + 1)\n",
    "    plt.plot(epochs, acc, 'bo', label='Training acc')\n",
    "    plt.plot(epochs, val_acc, 'b', label='Validation acc')\n",
    "    plt.title('Training and Validation accuracy')\n",
    "    plt.legend()\n",
    "\n",
    "    plt.figure()\n",
    "\n",
    "    plt.plot(epochs, loss, 'bo', label='Training loss')\n",
    "    plt.plot(epochs, val_loss, 'b', label='Validation loss')\n",
    "    plt.title('Training and Validation loss')\n",
    "    plt.legend()\n",
    "\n",
    "    plt.show()"
   ]
  },
  {
   "cell_type": "markdown",
   "metadata": {},
   "source": [
    "Cross Validation"
   ]
  },
  {
   "cell_type": "code",
   "execution_count": 19,
   "metadata": {},
   "outputs": [],
   "source": [
    "def get_dicts(train_folders_1, train_folders_2, validation_folders_1, validation_folders_2):\n",
    "    train_set = dict(zip(train_folders_1, ['other' for i in range(len(train_folders_1))]))\n",
    "    train_set.update(dict(zip(train_folders_2, ['covid' for i in range(len(train_folders_2))])))\n",
    "    validation_set = dict(zip(validation_folders_1, ['other' for i in range(len(validation_folders_1))]))\n",
    "    validation_set.update(dict(zip(validation_folders_2, ['covid' for i in range(len(validation_folders_2))])))\n",
    "    return train_set, validation_set"
   ]
  },
  {
   "cell_type": "code",
   "execution_count": 20,
   "metadata": {},
   "outputs": [],
   "source": [
    "def get_data(train_img_src_folder, train_img_folders, validation_img_src_folder, validation_img_folders):   \n",
    "    dfs = []\n",
    "    train_images = {\"id\": [], \"label\": []}\n",
    "    validation_images = {\"id\": [], \"label\": []}\n",
    "\n",
    "    df_config = [\n",
    "        (train_img_src_folder, train_img_folders, train_images),\n",
    "        (validation_img_src_folder, validation_img_folders, validation_images)\n",
    "    ]\n",
    "    \n",
    "    for (base, folder, dic) in df_config:\n",
    "        for img_folder, img_label in folder.items():\n",
    "            search_folder = \"{}/{}\".format(base, img_folder)\n",
    "            imgs_filename = sorted(get_file_path(search_folder, search_filter = 'masks'))\n",
    "            imgs_filename = imgs_filename[(len(imgs_filename)-EXAM_SLICE)//2:(len(imgs_filename)+EXAM_SLICE)//2]\n",
    "            dic[\"id\"].extend(imgs_filename)\n",
    "            dic[\"label\"].extend([img_label] * len(imgs_filename))\n",
    "\n",
    "        dfs.append(pd.DataFrame(data=dic))\n",
    "\n",
    "    train_df, validation_df = dfs[0], dfs[1]\n",
    "\n",
    "    train_df.to_csv('train_df.csv', index=False)\n",
    "    validation_df.to_csv('validation_df.csv', index=False)\n",
    "\n",
    "    print(\"Train fold with {} images\".format(len(train_df)))\n",
    "    print(train_df.groupby(\"label\").label.count())\n",
    "    print()\n",
    "    print(\"Validation fold with {} images\".format(len(validation_df)))\n",
    "    print(validation_df.groupby(\"label\").label.count())\n",
    "    print(\"-\" * 30)\n",
    "    \n",
    "    return train_df, validation_df"
   ]
  },
  {
   "cell_type": "code",
   "execution_count": 21,
   "metadata": {},
   "outputs": [],
   "source": [
    "def plot_all_acc(results):\n",
    "    for history in results:\n",
    "        acc = history['accuracy']\n",
    "        val_acc = history['val_accuracy']\n",
    "        loss = history['loss']\n",
    "        val_loss = history['val_loss']\n",
    "\n",
    "        epochs = range(1, len(acc) + 1)\n",
    "        plt.plot(epochs, acc, 'bo', label='Training acc')\n",
    "        plt.plot(epochs, val_acc, 'b', label='Validation acc')\n",
    "        plt.title('Training and Validation accuracy')\n",
    "        plt.legend()\n",
    "\n",
    "        #plt.figure()\n",
    "        plt.show()"
   ]
  },
  {
   "cell_type": "code",
   "execution_count": 22,
   "metadata": {},
   "outputs": [],
   "source": [
    "def cross_validation(label_1_patients, label_2_patients, valid_num):\n",
    "    all_results = []\n",
    "    for i in range(0, len(label_1_patients), valid_num):\n",
    "        validation_folders_1 = label_1_patients[i:i+valid_num]\n",
    "        validation_folders_2 = label_2_patients[i:i+valid_num]\n",
    "        train_folders_1 = list(set(label_1_patients) - set(validation_folders_1))\n",
    "        train_folders_2 = list(set(label_2_patients) - set(validation_folders_2))\n",
    "        \n",
    "        print('Validating Folders: ', sorted(validation_folders_1), ',', sorted(validation_folders_2))\n",
    "        print('Training Folders: ', sorted(train_folders_1), ',', sorted(train_folders_2))\n",
    "        \n",
    "        train_img_src_folder = img_src_folder\n",
    "        validation_img_src_folder = img_src_folder\n",
    "        \n",
    "        train_set, validation_set = get_dicts(train_folders_1, train_folders_2, validation_folders_1, validation_folders_2)\n",
    "        \n",
    "        EXAM_SLICE = 200\n",
    "        EPOCHS = 15\n",
    "        width = 150\n",
    "        height = 150\n",
    "        \n",
    "        train_df, validation_df = get_data(train_img_src_folder, train_set, validation_img_src_folder, validation_set)\n",
    "        \n",
    "        model = get_model()\n",
    "        #model.summary()\n",
    "        history = train_model(model, train_df, validation_df, EPOCHS)\n",
    "        all_results.append(history)\n",
    "    \n",
    "    return all_results "
   ]
  },
  {
   "cell_type": "code",
   "execution_count": 23,
   "metadata": {},
   "outputs": [],
   "source": [
    "def special_cross_validation(covid_patients, other_patients):\n",
    "    all_results = []\n",
    "    for i in range(0, 5):\n",
    "        validation_other_patients = []\n",
    "        validation_covid_patients = []\n",
    "        \n",
    "        validation_other_patients.append(other_patients[i])\n",
    "        validation_other_patients.append(other_patients[i+5])\n",
    "        \n",
    "        validation_covid_patients.append(covid_patients[i])\n",
    "        validation_covid_patients.append(covid_patients[i+5])\n",
    "        \n",
    "        train_covid_patients = list(set(covid_patients) - set(validation_covid_patients))\n",
    "        train_other_patients = list(set(other_patients) - set(validation_other_patients))\n",
    "        \n",
    "        print('Validating Folders: ', sorted(validation_other_patients), ',', sorted(validation_covid_patients))\n",
    "        print('Training Folders: ', sorted(train_other_patients), ',', sorted(train_covid_patients))\n",
    "        \n",
    "        train_img_src_folder = img_src_folder\n",
    "        validation_img_src_folder = img_src_folder\n",
    "        \n",
    "        train_set, validation_set = get_dicts(train_covid_patients, train_other_patients, validation_covid_patients, validation_other_patients)\n",
    "        \n",
    "        EXAM_SLICE = 200\n",
    "        EPOCHS = 15\n",
    "        width = 150\n",
    "        height = 150\n",
    "        \n",
    "        train_df, validation_df = get_data(train_img_src_folder, train_set, validation_img_src_folder, validation_set)\n",
    "        \n",
    "        model = get_model()\n",
    "        #model.summary()\n",
    "        history = train_model(model, train_df, validation_df, EPOCHS)\n",
    "        all_results.append(history)\n",
    "    \n",
    "    return all_results"
   ]
  },
  {
   "cell_type": "markdown",
   "metadata": {},
   "source": [
    "Fitting Cross Validation and Visualizing Results"
   ]
  },
  {
   "cell_type": "code",
   "execution_count": 24,
   "metadata": {},
   "outputs": [
    {
     "data": {
      "text/plain": [
       "['p1', 'p10', 'p2', 'p3', 'p4', 'p5', 'p6', 'p7', 'p8', 'p9']"
      ]
     },
     "execution_count": 24,
     "metadata": {},
     "output_type": "execute_result"
    }
   ],
   "source": [
    "sorted(other_patients)"
   ]
  },
  {
   "cell_type": "code",
   "execution_count": 25,
   "metadata": {},
   "outputs": [
    {
     "data": {
      "text/plain": [
       "['p11', 'p12', 'p13', 'p14', 'p15', 'p16', 'p17', 'p18', 'p19', 'p20']"
      ]
     },
     "execution_count": 25,
     "metadata": {},
     "output_type": "execute_result"
    }
   ],
   "source": [
    "sorted(covid_patients)"
   ]
  },
  {
   "cell_type": "code",
   "execution_count": 26,
   "metadata": {},
   "outputs": [
    {
     "data": {
      "text/plain": [
       "['p11', 'p12', 'p13', 'p14', 'p15', 'p16', 'p17', 'p18', 'p19', 'p20']"
      ]
     },
     "execution_count": 26,
     "metadata": {},
     "output_type": "execute_result"
    }
   ],
   "source": [
    "covid_patients = sorted(covid_patients)\n",
    "covid_patients"
   ]
  },
  {
   "cell_type": "code",
   "execution_count": 27,
   "metadata": {},
   "outputs": [
    {
     "data": {
      "text/plain": [
       "['p1', 'p2', 'p3', 'p4', 'p5', 'p6', 'p7', 'p8', 'p9', 'p10']"
      ]
     },
     "execution_count": 27,
     "metadata": {},
     "output_type": "execute_result"
    }
   ],
   "source": [
    "other_patients = sorted(other_patients)\n",
    "other_patients.pop(1)\n",
    "other_patients.append('p10')\n",
    "other_patients"
   ]
  },
  {
   "cell_type": "code",
   "execution_count": 28,
   "metadata": {
    "scrolled": true
   },
   "outputs": [
    {
     "name": "stdout",
     "output_type": "stream",
     "text": [
      "Validating Folders:  ['p1', 'p6'] , ['p11', 'p16']\n",
      "Training Folders:  ['p10', 'p2', 'p3', 'p4', 'p5', 'p7', 'p8', 'p9'] , ['p12', 'p13', 'p14', 'p15', 'p17', 'p18', 'p19', 'p20']\n",
      "Train fold with 3200 images\n",
      "label\n",
      "covid    1600\n",
      "other    1600\n",
      "Name: label, dtype: int64\n",
      "\n",
      "Validation fold with 800 images\n",
      "label\n",
      "covid    400\n",
      "other    400\n",
      "Name: label, dtype: int64\n",
      "------------------------------\n",
      "Model: \"sequential\"\n",
      "_________________________________________________________________\n",
      "Layer (type)                 Output Shape              Param #   \n",
      "=================================================================\n",
      "resnet50 (Model)             (None, 5, 5, 2048)        23587712  \n",
      "_________________________________________________________________\n",
      "global_average_pooling2d (Gl (None, 2048)              0         \n",
      "_________________________________________________________________\n",
      "dense (Dense)                (None, 1)                 2049      \n",
      "=================================================================\n",
      "Total params: 23,589,761\n",
      "Trainable params: 23,309,825\n",
      "Non-trainable params: 279,936\n",
      "_________________________________________________________________\n",
      "Found 3200 validated image filenames belonging to 2 classes.\n",
      "Found 800 validated image filenames belonging to 2 classes.\n",
      "Epoch 1/15\n",
      "200/200 [==============================] - 77s 384ms/step - loss: 0.3204 - accuracy: 0.8691 - val_loss: 1.1066 - val_accuracy: 0.5000\n",
      "Epoch 2/15\n",
      "200/200 [==============================] - 42s 210ms/step - loss: 0.2211 - accuracy: 0.9131 - val_loss: 0.3214 - val_accuracy: 0.8637\n",
      "Epoch 3/15\n",
      "200/200 [==============================] - 42s 211ms/step - loss: 0.1786 - accuracy: 0.9344 - val_loss: 0.2015 - val_accuracy: 0.9250\n",
      "Epoch 4/15\n",
      "200/200 [==============================] - 43s 214ms/step - loss: 0.1348 - accuracy: 0.9488 - val_loss: 0.3359 - val_accuracy: 0.9175\n",
      "Epoch 5/15\n",
      "200/200 [==============================] - 43s 213ms/step - loss: 0.1101 - accuracy: 0.9638 - val_loss: 0.9238 - val_accuracy: 0.8462\n",
      "Epoch 6/15\n",
      "200/200 [==============================] - 49s 243ms/step - loss: 0.0977 - accuracy: 0.9650 - val_loss: 0.4684 - val_accuracy: 0.8900\n",
      "Epoch 7/15\n",
      "200/200 [==============================] - 49s 244ms/step - loss: 0.0950 - accuracy: 0.9666 - val_loss: 0.6715 - val_accuracy: 0.8700\n",
      "Epoch 8/15\n",
      "200/200 [==============================] - 54s 271ms/step - loss: 0.0921 - accuracy: 0.9656 - val_loss: 0.5208 - val_accuracy: 0.8813\n",
      "Epoch 9/15\n",
      "200/200 [==============================] - 43s 216ms/step - loss: 0.0749 - accuracy: 0.9706 - val_loss: 0.5518 - val_accuracy: 0.9050\n",
      "Epoch 10/15\n",
      "200/200 [==============================] - 57s 287ms/step - loss: 0.0655 - accuracy: 0.9750 - val_loss: 0.6792 - val_accuracy: 0.8763\n",
      "Epoch 11/15\n",
      "200/200 [==============================] - 50s 251ms/step - loss: 0.0632 - accuracy: 0.9787 - val_loss: 0.4649 - val_accuracy: 0.8988\n",
      "Epoch 12/15\n",
      "200/200 [==============================] - 54s 271ms/step - loss: 0.0490 - accuracy: 0.9841 - val_loss: 1.2691 - val_accuracy: 0.8425\n",
      "Epoch 13/15\n",
      "200/200 [==============================] - 51s 255ms/step - loss: 0.0396 - accuracy: 0.9862 - val_loss: 1.0532 - val_accuracy: 0.8637\n",
      "Epoch 14/15\n",
      "200/200 [==============================] - 57s 287ms/step - loss: 0.0463 - accuracy: 0.9856 - val_loss: 0.9062 - val_accuracy: 0.8375\n",
      "Epoch 15/15\n",
      "200/200 [==============================] - 54s 268ms/step - loss: 0.0409 - accuracy: 0.9878 - val_loss: 0.7553 - val_accuracy: 0.8788\n",
      "Validating Folders:  ['p2', 'p7'] , ['p12', 'p17']\n",
      "Training Folders:  ['p1', 'p10', 'p3', 'p4', 'p5', 'p6', 'p8', 'p9'] , ['p11', 'p13', 'p14', 'p15', 'p16', 'p18', 'p19', 'p20']\n",
      "Train fold with 3200 images\n",
      "label\n",
      "covid    1600\n",
      "other    1600\n",
      "Name: label, dtype: int64\n",
      "\n",
      "Validation fold with 800 images\n",
      "label\n",
      "covid    400\n",
      "other    400\n",
      "Name: label, dtype: int64\n",
      "------------------------------\n",
      "Model: \"sequential_1\"\n",
      "_________________________________________________________________\n",
      "Layer (type)                 Output Shape              Param #   \n",
      "=================================================================\n",
      "resnet50 (Model)             (None, 5, 5, 2048)        23587712  \n",
      "_________________________________________________________________\n",
      "global_average_pooling2d_1 ( (None, 2048)              0         \n",
      "_________________________________________________________________\n",
      "dense_1 (Dense)              (None, 1)                 2049      \n",
      "=================================================================\n",
      "Total params: 23,589,761\n",
      "Trainable params: 23,309,825\n",
      "Non-trainable params: 279,936\n",
      "_________________________________________________________________\n",
      "Found 3200 validated image filenames belonging to 2 classes.\n",
      "Found 800 validated image filenames belonging to 2 classes.\n",
      "Epoch 1/15\n",
      "200/200 [==============================] - 44s 222ms/step - loss: 0.3249 - accuracy: 0.8594 - val_loss: 1.0416 - val_accuracy: 0.5000\n",
      "Epoch 2/15\n",
      "200/200 [==============================] - 61s 305ms/step - loss: 0.2176 - accuracy: 0.9162 - val_loss: 0.7705 - val_accuracy: 0.7262\n",
      "Epoch 3/15\n",
      "200/200 [==============================] - 51s 256ms/step - loss: 0.1615 - accuracy: 0.9347 - val_loss: 0.6070 - val_accuracy: 0.8450\n",
      "Epoch 4/15\n",
      "200/200 [==============================] - 60s 302ms/step - loss: 0.1285 - accuracy: 0.9506 - val_loss: 1.1652 - val_accuracy: 0.7525\n",
      "Epoch 5/15\n",
      "200/200 [==============================] - 51s 254ms/step - loss: 0.1293 - accuracy: 0.9503 - val_loss: 0.3566 - val_accuracy: 0.8963\n",
      "Epoch 6/15\n",
      "200/200 [==============================] - 58s 291ms/step - loss: 0.1118 - accuracy: 0.9600 - val_loss: 0.6740 - val_accuracy: 0.8250\n",
      "Epoch 7/15\n",
      "200/200 [==============================] - 53s 266ms/step - loss: 0.0963 - accuracy: 0.9650 - val_loss: 0.4741 - val_accuracy: 0.8662\n",
      "Epoch 8/15\n",
      "200/200 [==============================] - 59s 293ms/step - loss: 0.0846 - accuracy: 0.9741 - val_loss: 0.5533 - val_accuracy: 0.9000\n",
      "Epoch 9/15\n",
      "200/200 [==============================] - 52s 259ms/step - loss: 0.0750 - accuracy: 0.9712 - val_loss: 0.7986 - val_accuracy: 0.8012\n",
      "Epoch 10/15\n",
      "200/200 [==============================] - 59s 295ms/step - loss: 0.0854 - accuracy: 0.9697 - val_loss: 0.4857 - val_accuracy: 0.8400\n",
      "Epoch 11/15\n",
      "200/200 [==============================] - 54s 268ms/step - loss: 0.0711 - accuracy: 0.9766 - val_loss: 0.8631 - val_accuracy: 0.8700\n",
      "Epoch 12/15\n",
      "200/200 [==============================] - 59s 294ms/step - loss: 0.0571 - accuracy: 0.9769 - val_loss: 0.3805 - val_accuracy: 0.8788\n",
      "Epoch 13/15\n",
      "200/200 [==============================] - 53s 264ms/step - loss: 0.0624 - accuracy: 0.9800 - val_loss: 0.4476 - val_accuracy: 0.8925\n",
      "Epoch 14/15\n",
      "200/200 [==============================] - 60s 301ms/step - loss: 0.0596 - accuracy: 0.9775 - val_loss: 0.5012 - val_accuracy: 0.8650\n",
      "Epoch 15/15\n",
      "200/200 [==============================] - 53s 264ms/step - loss: 0.0473 - accuracy: 0.9866 - val_loss: 0.3540 - val_accuracy: 0.9050\n",
      "Validating Folders:  ['p3', 'p8'] , ['p13', 'p18']\n",
      "Training Folders:  ['p1', 'p10', 'p2', 'p4', 'p5', 'p6', 'p7', 'p9'] , ['p11', 'p12', 'p14', 'p15', 'p16', 'p17', 'p19', 'p20']\n",
      "Train fold with 3200 images\n",
      "label\n",
      "covid    1600\n",
      "other    1600\n",
      "Name: label, dtype: int64\n",
      "\n",
      "Validation fold with 800 images\n",
      "label\n",
      "covid    400\n",
      "other    400\n",
      "Name: label, dtype: int64\n",
      "------------------------------\n",
      "Model: \"sequential_2\"\n",
      "_________________________________________________________________\n",
      "Layer (type)                 Output Shape              Param #   \n",
      "=================================================================\n",
      "resnet50 (Model)             (None, 5, 5, 2048)        23587712  \n",
      "_________________________________________________________________\n",
      "global_average_pooling2d_2 ( (None, 2048)              0         \n",
      "_________________________________________________________________\n",
      "dense_2 (Dense)              (None, 1)                 2049      \n",
      "=================================================================\n",
      "Total params: 23,589,761\n",
      "Trainable params: 23,309,825\n",
      "Non-trainable params: 279,936\n",
      "_________________________________________________________________\n",
      "Found 3200 validated image filenames belonging to 2 classes.\n",
      "Found 800 validated image filenames belonging to 2 classes.\n",
      "Epoch 1/15\n"
     ]
    },
    {
     "name": "stdout",
     "output_type": "stream",
     "text": [
      "200/200 [==============================] - 44s 221ms/step - loss: 0.2192 - accuracy: 0.9084 - val_loss: 0.8805 - val_accuracy: 0.5000\n",
      "Epoch 2/15\n",
      "200/200 [==============================] - 61s 304ms/step - loss: 0.1355 - accuracy: 0.9506 - val_loss: 0.7886 - val_accuracy: 0.7000\n",
      "Epoch 3/15\n",
      "200/200 [==============================] - 58s 288ms/step - loss: 0.1178 - accuracy: 0.9541 - val_loss: 2.6802 - val_accuracy: 0.6012\n",
      "Epoch 4/15\n",
      "200/200 [==============================] - 56s 281ms/step - loss: 0.0927 - accuracy: 0.9663 - val_loss: 2.5433 - val_accuracy: 0.6637\n",
      "Epoch 5/15\n",
      "200/200 [==============================] - 55s 274ms/step - loss: 0.0782 - accuracy: 0.9716 - val_loss: 2.5102 - val_accuracy: 0.6400\n",
      "Epoch 6/15\n",
      "200/200 [==============================] - 60s 300ms/step - loss: 0.0601 - accuracy: 0.9769 - val_loss: 3.5359 - val_accuracy: 0.6263\n",
      "Epoch 7/15\n",
      "200/200 [==============================] - 51s 255ms/step - loss: 0.0533 - accuracy: 0.9816 - val_loss: 3.0349 - val_accuracy: 0.6413\n",
      "Epoch 8/15\n",
      "200/200 [==============================] - 61s 303ms/step - loss: 0.0559 - accuracy: 0.9816 - val_loss: 4.2000 - val_accuracy: 0.6263\n",
      "Epoch 9/15\n",
      "200/200 [==============================] - 53s 267ms/step - loss: 0.0441 - accuracy: 0.9862 - val_loss: 2.7941 - val_accuracy: 0.6300\n",
      "Epoch 10/15\n",
      "200/200 [==============================] - 59s 293ms/step - loss: 0.0475 - accuracy: 0.9859 - val_loss: 3.9920 - val_accuracy: 0.6400\n",
      "Epoch 11/15\n",
      "200/200 [==============================] - 54s 270ms/step - loss: 0.0375 - accuracy: 0.9869 - val_loss: 4.0624 - val_accuracy: 0.5775\n",
      "Epoch 12/15\n",
      "200/200 [==============================] - 58s 292ms/step - loss: 0.0338 - accuracy: 0.9878 - val_loss: 4.7925 - val_accuracy: 0.6175\n",
      "Epoch 13/15\n",
      "200/200 [==============================] - 54s 268ms/step - loss: 0.0254 - accuracy: 0.9909 - val_loss: 4.5259 - val_accuracy: 0.5987\n",
      "Epoch 14/15\n",
      "200/200 [==============================] - 58s 292ms/step - loss: 0.0296 - accuracy: 0.9887 - val_loss: 4.2993 - val_accuracy: 0.6750\n",
      "Epoch 15/15\n",
      "200/200 [==============================] - 52s 260ms/step - loss: 0.0305 - accuracy: 0.9894 - val_loss: 4.4150 - val_accuracy: 0.6963\n",
      "Validating Folders:  ['p4', 'p9'] , ['p14', 'p19']\n",
      "Training Folders:  ['p1', 'p10', 'p2', 'p3', 'p5', 'p6', 'p7', 'p8'] , ['p11', 'p12', 'p13', 'p15', 'p16', 'p17', 'p18', 'p20']\n",
      "Train fold with 3200 images\n",
      "label\n",
      "covid    1600\n",
      "other    1600\n",
      "Name: label, dtype: int64\n",
      "\n",
      "Validation fold with 800 images\n",
      "label\n",
      "covid    400\n",
      "other    400\n",
      "Name: label, dtype: int64\n",
      "------------------------------\n",
      "Model: \"sequential_3\"\n",
      "_________________________________________________________________\n",
      "Layer (type)                 Output Shape              Param #   \n",
      "=================================================================\n",
      "resnet50 (Model)             (None, 5, 5, 2048)        23587712  \n",
      "_________________________________________________________________\n",
      "global_average_pooling2d_3 ( (None, 2048)              0         \n",
      "_________________________________________________________________\n",
      "dense_3 (Dense)              (None, 1)                 2049      \n",
      "=================================================================\n",
      "Total params: 23,589,761\n",
      "Trainable params: 23,309,825\n",
      "Non-trainable params: 279,936\n",
      "_________________________________________________________________\n",
      "Found 3200 validated image filenames belonging to 2 classes.\n",
      "Found 800 validated image filenames belonging to 2 classes.\n",
      "Epoch 1/15\n",
      "200/200 [==============================] - 50s 249ms/step - loss: 0.2706 - accuracy: 0.8897 - val_loss: 0.6933 - val_accuracy: 0.4575\n",
      "Epoch 2/15\n",
      "200/200 [==============================] - 62s 312ms/step - loss: 0.1752 - accuracy: 0.9306 - val_loss: 0.6524 - val_accuracy: 0.6837\n",
      "Epoch 3/15\n",
      "200/200 [==============================] - 53s 267ms/step - loss: 0.1458 - accuracy: 0.9456 - val_loss: 1.4395 - val_accuracy: 0.7212\n",
      "Epoch 4/15\n",
      "200/200 [==============================] - 61s 306ms/step - loss: 0.1058 - accuracy: 0.9603 - val_loss: 1.1496 - val_accuracy: 0.7412\n",
      "Epoch 5/15\n",
      "200/200 [==============================] - 53s 267ms/step - loss: 0.0985 - accuracy: 0.9653 - val_loss: 1.4985 - val_accuracy: 0.7400\n",
      "Epoch 6/15\n",
      "200/200 [==============================] - 62s 310ms/step - loss: 0.0810 - accuracy: 0.9688 - val_loss: 1.7838 - val_accuracy: 0.6988\n",
      "Epoch 7/15\n",
      "200/200 [==============================] - 53s 265ms/step - loss: 0.0685 - accuracy: 0.9756 - val_loss: 0.9521 - val_accuracy: 0.7663\n",
      "Epoch 8/15\n",
      "200/200 [==============================] - 62s 312ms/step - loss: 0.0712 - accuracy: 0.9737 - val_loss: 1.2820 - val_accuracy: 0.7325\n",
      "Epoch 9/15\n",
      "200/200 [==============================] - 53s 264ms/step - loss: 0.0574 - accuracy: 0.9825 - val_loss: 1.3915 - val_accuracy: 0.7300\n",
      "Epoch 10/15\n",
      "200/200 [==============================] - 62s 311ms/step - loss: 0.0478 - accuracy: 0.9834 - val_loss: 1.5175 - val_accuracy: 0.7638\n",
      "Epoch 11/15\n",
      "200/200 [==============================] - 53s 263ms/step - loss: 0.0449 - accuracy: 0.9850 - val_loss: 1.9395 - val_accuracy: 0.6862\n",
      "Epoch 12/15\n",
      "200/200 [==============================] - 62s 310ms/step - loss: 0.0425 - accuracy: 0.9825 - val_loss: 1.3279 - val_accuracy: 0.7713\n",
      "Epoch 13/15\n",
      "200/200 [==============================] - 52s 262ms/step - loss: 0.0406 - accuracy: 0.9856 - val_loss: 2.2621 - val_accuracy: 0.6938\n",
      "Epoch 14/15\n",
      "200/200 [==============================] - 61s 307ms/step - loss: 0.0312 - accuracy: 0.9900 - val_loss: 1.7868 - val_accuracy: 0.7550\n",
      "Epoch 15/15\n",
      "200/200 [==============================] - 53s 265ms/step - loss: 0.0302 - accuracy: 0.9887 - val_loss: 1.4780 - val_accuracy: 0.7600\n",
      "Validating Folders:  ['p10', 'p5'] , ['p15', 'p20']\n",
      "Training Folders:  ['p1', 'p2', 'p3', 'p4', 'p6', 'p7', 'p8', 'p9'] , ['p11', 'p12', 'p13', 'p14', 'p16', 'p17', 'p18', 'p19']\n",
      "Train fold with 3200 images\n",
      "label\n",
      "covid    1600\n",
      "other    1600\n",
      "Name: label, dtype: int64\n",
      "\n",
      "Validation fold with 800 images\n",
      "label\n",
      "covid    400\n",
      "other    400\n",
      "Name: label, dtype: int64\n",
      "------------------------------\n",
      "Model: \"sequential_4\"\n",
      "_________________________________________________________________\n",
      "Layer (type)                 Output Shape              Param #   \n",
      "=================================================================\n",
      "resnet50 (Model)             (None, 5, 5, 2048)        23587712  \n",
      "_________________________________________________________________\n",
      "global_average_pooling2d_4 ( (None, 2048)              0         \n",
      "_________________________________________________________________\n",
      "dense_4 (Dense)              (None, 1)                 2049      \n",
      "=================================================================\n",
      "Total params: 23,589,761\n",
      "Trainable params: 23,309,825\n",
      "Non-trainable params: 279,936\n",
      "_________________________________________________________________\n",
      "Found 3200 validated image filenames belonging to 2 classes.\n",
      "Found 800 validated image filenames belonging to 2 classes.\n",
      "Epoch 1/15\n",
      "200/200 [==============================] - 46s 229ms/step - loss: 0.3063 - accuracy: 0.8569 - val_loss: 0.6729 - val_accuracy: 0.5800\n",
      "Epoch 2/15\n",
      "200/200 [==============================] - 60s 300ms/step - loss: 0.1854 - accuracy: 0.9256 - val_loss: 0.5461 - val_accuracy: 0.7663\n",
      "Epoch 3/15\n",
      "200/200 [==============================] - 61s 307ms/step - loss: 0.1449 - accuracy: 0.9425 - val_loss: 0.7274 - val_accuracy: 0.8525\n",
      "Epoch 4/15\n",
      "200/200 [==============================] - 53s 264ms/step - loss: 0.1146 - accuracy: 0.9581 - val_loss: 0.8285 - val_accuracy: 0.8188\n",
      "Epoch 5/15\n",
      "200/200 [==============================] - 61s 305ms/step - loss: 0.0983 - accuracy: 0.9600 - val_loss: 0.7949 - val_accuracy: 0.8263\n",
      "Epoch 6/15\n",
      "200/200 [==============================] - 54s 272ms/step - loss: 0.0838 - accuracy: 0.9700 - val_loss: 0.9101 - val_accuracy: 0.8512\n",
      "Epoch 7/15\n",
      "200/200 [==============================] - 60s 300ms/step - loss: 0.0774 - accuracy: 0.9709 - val_loss: 1.4847 - val_accuracy: 0.8213\n",
      "Epoch 8/15\n",
      "200/200 [==============================] - 54s 272ms/step - loss: 0.0668 - accuracy: 0.9753 - val_loss: 0.8569 - val_accuracy: 0.8400\n",
      "Epoch 9/15\n",
      "200/200 [==============================] - 58s 290ms/step - loss: 0.0564 - accuracy: 0.9778 - val_loss: 1.1172 - val_accuracy: 0.8313\n"
     ]
    },
    {
     "name": "stdout",
     "output_type": "stream",
     "text": [
      "Epoch 10/15\n",
      "200/200 [==============================] - 61s 303ms/step - loss: 0.0632 - accuracy: 0.9784 - val_loss: 1.0001 - val_accuracy: 0.8325\n",
      "Epoch 11/15\n",
      "200/200 [==============================] - 53s 265ms/step - loss: 0.0579 - accuracy: 0.9806 - val_loss: 0.9670 - val_accuracy: 0.8100\n",
      "Epoch 12/15\n",
      "200/200 [==============================] - 63s 315ms/step - loss: 0.0472 - accuracy: 0.9825 - val_loss: 1.6963 - val_accuracy: 0.7462\n",
      "Epoch 13/15\n",
      "200/200 [==============================] - 54s 270ms/step - loss: 0.0357 - accuracy: 0.9862 - val_loss: 1.3918 - val_accuracy: 0.7937\n",
      "Epoch 14/15\n",
      "200/200 [==============================] - 61s 306ms/step - loss: 0.0281 - accuracy: 0.9897 - val_loss: 0.9905 - val_accuracy: 0.8500\n",
      "Epoch 15/15\n",
      "200/200 [==============================] - 55s 274ms/step - loss: 0.0336 - accuracy: 0.9897 - val_loss: 1.9844 - val_accuracy: 0.7912\n"
     ]
    }
   ],
   "source": [
    "results = special_cross_validation(covid_patients, other_patients)"
   ]
  },
  {
   "cell_type": "code",
   "execution_count": 29,
   "metadata": {},
   "outputs": [
    {
     "data": {
      "image/png": "[encoded data removed]",
      "text/plain": [
       "<Figure size 432x288 with 1 Axes>"
      ]
     },
     "metadata": {
      "needs_background": "light"
     },
     "output_type": "display_data"
    },
    {
     "data": {
      "image/png": "[encoded data removed]",
      "text/plain": [
       "<Figure size 432x288 with 1 Axes>"
      ]
     },
     "metadata": {
      "needs_background": "light"
     },
     "output_type": "display_data"
    },
    {
     "data": {
      "image/png": "[encoded data removed]",
      "text/plain": [
       "<Figure size 432x288 with 1 Axes>"
      ]
     },
     "metadata": {
      "needs_background": "light"
     },
     "output_type": "display_data"
    },
    {
     "data": {
      "image/png": "[encoded data removed]",
      "text/plain": [
       "<Figure size 432x288 with 1 Axes>"
      ]
     },
     "metadata": {
      "needs_background": "light"
     },
     "output_type": "display_data"
    },
    {
     "data": {
      "image/png": "[encoded data removed]",
      "text/plain": [
       "<Figure size 432x288 with 1 Axes>"
      ]
     },
     "metadata": {
      "needs_background": "light"
     },
     "output_type": "display_data"
    }
   ],
   "source": [
    "plot_all_acc(results)"
   ]
  },
  {
   "cell_type": "markdown",
   "metadata": {},
   "source": [
    "Fitting or Loading a Final Model"
   ]
  },
  {
   "cell_type": "code",
   "execution_count": null,
   "metadata": {},
   "outputs": [],
   "source": [
    "model = get_model()"
   ]
  },
  {
   "cell_type": "code",
   "execution_count": null,
   "metadata": {},
   "outputs": [],
   "source": [
    "print(sorted(covid_patients))\n",
    "print(sorted(other_patients))"
   ]
  },
  {
   "cell_type": "code",
   "execution_count": null,
   "metadata": {},
   "outputs": [],
   "source": [
    "def get_file_path(folder, search_filter=''):\n",
    "    paths = []\n",
    "    for root, dirs, files in os.walk(folder):\n",
    "        for file in files:\n",
    "            path = os.path.join(root, file)\n",
    "            if search_filter in path:\n",
    "                paths.append(path)\n",
    "    return paths"
   ]
  },
  {
   "cell_type": "code",
   "execution_count": null,
   "metadata": {},
   "outputs": [],
   "source": [
    "#fitting a model that performed well in cross validation tests\n",
    "validation_other_folders = ['p2', 'p7']\n",
    "validation_covid_folders = ['p12', 'p17']\n",
    "\n",
    "train_other_folders = list(set(other_patients) - set(validation_other_folders))\n",
    "train_covid_folders = list(set(covid_patients) - set(validation_covid_folders))\n",
    "\n",
    "print(\"Validating Folders: \", sorted(validation_other_folders), sorted(validation_covid_folders))\n",
    "print(\"Training Folders: \", sorted(train_other_folders), sorted(train_covid_folders))\n",
    "\n",
    "train_img_src_folder = img_src_folder\n",
    "validation_img_src_folder = img_src_folder\n",
    "\n",
    "train_set, validation_set = get_dicts(train_other_folders, train_covid_folders,\n",
    "                                    validation_other_folders, validation_covid_folders)\n",
    "\n",
    "train_df, validation_df = get_data(train_img_src_folder, train_set, \n",
    "                                  validation_img_src_folder, validation_set)\n",
    "\n",
    "history = train_model(model, train_df, validation_df, EPOCHS)"
   ]
  },
  {
   "cell_type": "code",
   "execution_count": null,
   "metadata": {},
   "outputs": [],
   "source": [
    "#saving the final model\n",
    "#model.save('transfer_learning.h5')"
   ]
  },
  {
   "cell_type": "code",
   "execution_count": null,
   "metadata": {},
   "outputs": [],
   "source": [
    "if os.path.isfile('transfer_learning.h5'):\n",
    "    from keras.models import load_model\n",
    "    model = load_model('transfer_learning.h5')\n",
    "    model.summary()"
   ]
  },
  {
   "cell_type": "markdown",
   "metadata": {},
   "source": [
    "Making Predictions to Patients in Test Set"
   ]
  },
  {
   "cell_type": "code",
   "execution_count": null,
   "metadata": {},
   "outputs": [],
   "source": [
    "test_patients = sorted(TEST_IMG_FOLDERS) \n",
    "test_patients"
   ]
  },
  {
   "cell_type": "code",
   "execution_count": null,
   "metadata": {},
   "outputs": [],
   "source": [
    "if len(test_patients)>0:\n",
    "    batch_size = 16\n",
    "    width = 150\n",
    "    height = 150\n",
    "    results = []\n",
    "    for p in test_patients:\n",
    "        curr_dir = img_src_folder + '/' + p + '/segmented/' \n",
    "        test_filenames = os.listdir(curr_dir)\n",
    "        test_df = pd.DataFrame({\n",
    "                'filename': test_filenames\n",
    "         })\n",
    "        nb_samples = test_df.shape[0]\n",
    "\n",
    "        test_gen = ImageDataGenerator(rescale=1./255)\n",
    "        test_generator = test_gen.flow_from_dataframe(\n",
    "                test_df, \n",
    "                curr_dir, \n",
    "                x_col='filename',\n",
    "                y_col=None,\n",
    "                class_mode=None,\n",
    "                target_size=(width, height),\n",
    "                batch_size=batch_size,\n",
    "                shuffle=False\n",
    "        )\n",
    "\n",
    "        predict = model.predict(test_generator, steps=np.ceil(nb_samples/batch_size))\n",
    "        test_df['category'] = [int(round(p[0])) for p in predict]\n",
    "        results.append(test_df)"
   ]
  }
 ],
 "metadata": {
  "kernelspec": {
   "display_name": "Python 3",
   "language": "python",
   "name": "python3"
  },
  "language_info": {
   "codemirror_mode": {
    "name": "ipython",
    "version": 3
   },
   "file_extension": ".py",
   "mimetype": "text/x-python",
   "name": "python",
   "nbconvert_exporter": "python",
   "pygments_lexer": "ipython3",
   "version": "3.8.3"
  }
 },
 "nbformat": 4,
 "nbformat_minor": 4
}
